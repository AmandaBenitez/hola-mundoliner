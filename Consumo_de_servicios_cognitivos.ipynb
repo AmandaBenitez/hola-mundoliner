{
  "nbformat": 4,
  "nbformat_minor": 0,
  "metadata": {
    "colab": {
      "name": "Consumo de servicios cognitivos",
      "provenance": [],
      "authorship_tag": "ABX9TyM8HgJtCsjR7rRvt4sn8BZX",
      "include_colab_link": true
    },
    "kernelspec": {
      "name": "python3",
      "display_name": "Python 3"
    }
  },
  "cells": [
    {
      "cell_type": "markdown",
      "metadata": {
        "id": "view-in-github",
        "colab_type": "text"
      },
      "source": [
        "<a href=\"https://colab.research.google.com/github/AmandaBenitez/hola-mundoliner/blob/main/Consumo_de_servicios_cognitivos.ipynb\" target=\"_parent\"><img src=\"https://colab.research.google.com/assets/colab-badge.svg\" alt=\"Open In Colab\"/></a>"
      ]
    },
    {
      "cell_type": "markdown",
      "metadata": {
        "id": "dmLHjkchY-zL"
      },
      "source": [
        "#Instalación del paquete de Microsoft para consumir los servicios cognitivos de de visión."
      ]
    },
    {
      "cell_type": "code",
      "metadata": {
        "id": "3pt4knUnUyIN"
      },
      "source": [
        "!pip install --upgrade azure-cognitiveservices-vision-computervision -q"
      ],
      "execution_count": 13,
      "outputs": []
    },
    {
      "cell_type": "markdown",
      "metadata": {
        "id": "QoJ2yHnwZY4H"
      },
      "source": [
        "Importamos las bibliotecas de funciones que vamos a utilizar."
      ]
    },
    {
      "cell_type": "markdown",
      "metadata": {
        "id": "7F_KTs3mY5oQ"
      },
      "source": [
        ""
      ]
    },
    {
      "cell_type": "code",
      "metadata": {
        "id": "Ni_5xaVLZgi_"
      },
      "source": [
        "#Funcionalidades para conectarnos con nuestro recurso de Cognitive Services\r\n",
        "#y validar nuestro acceso\r\n",
        "from azure.cognitiveservices.vision.computervision import ComputerVisionClient\r\n",
        "from azure.cognitiveservices.vision.computervision.models import OperationStatusCodes\r\n",
        "from azure.cognitiveservices.vision.computervision.models import VisualFeatureTypes\r\n",
        "from msrest.authentication import CognitiveServicesCredentials\r\n",
        "\r\n",
        "#Paqueteria de Python paa acceder a recursos de la máquina\r\n",
        "from array import array\r\n",
        "import os\r\n",
        "from PIL import Image  #Este es para trabajar con imagenes\r\n",
        "import sys\r\n",
        "import time"
      ],
      "execution_count": 2,
      "outputs": []
    },
    {
      "cell_type": "markdown",
      "metadata": {
        "id": "s_TWZOesb154"
      },
      "source": [
        "Lo primero es que necesitamos autenticar nuestro acceso para consumir el recurso."
      ]
    },
    {
      "cell_type": "code",
      "metadata": {
        "id": "cHKlflhnboWZ"
      },
      "source": [
        "endpoint =\"https://practica.cognitiveservices.azure.com/\"\r\n",
        "subscription_key = \"24259926b4fb445dba89a8f7fc380945\"\r\n",
        "\r\n",
        "computervision_client = ComputerVisionClient(endpoint, CognitiveServicesCredentials(subscription_key))"
      ],
      "execution_count": 3,
      "outputs": []
    },
    {
      "cell_type": "markdown",
      "metadata": {
        "id": "QHJPoJ2Zc184"
      },
      "source": [
        "Procedemos a consumir el servicio para analizar una imagen."
      ]
    },
    {
      "cell_type": "code",
      "metadata": {
        "id": "UGORxdXbcpkm"
      },
      "source": [
        "#Ponemos un URL de la imagen a analizar\r\n",
        "remote_image_url = \"https://canaldiabetes.com/wp-content/uploads/2013/05/diabetes-en-perros-y-gatos.jpg\""
      ],
      "execution_count": 19,
      "outputs": []
    },
    {
      "cell_type": "code",
      "metadata": {
        "colab": {
          "base_uri": "https://localhost:8080/"
        },
        "id": "DdVuzRiKdzsY",
        "outputId": "4052e39e-a733-4355-cac5-eed634a16cac"
      },
      "source": [
        "#Descripción de los contenidos de la imagen\r\n",
        "print(\"===== Describe an image - remote :D=====\")\r\n",
        "\r\n",
        "\r\n",
        "#Consumimos le servicio de Computer vision\r\n",
        "description_results = computervision_client.describe_image(remote_image_url )\r\n"
      ],
      "execution_count": 20,
      "outputs": [
        {
          "output_type": "stream",
          "text": [
            "===== Describe an image - remote :D=====\n"
          ],
          "name": "stdout"
        }
      ]
    },
    {
      "cell_type": "code",
      "metadata": {
        "colab": {
          "base_uri": "https://localhost:8080/"
        },
        "id": "cMmVNWcIhSOl",
        "outputId": "e4f3e996-fe9b-4512-df80-34a686bb6db7"
      },
      "source": [
        "from pprint import pprint\r\n",
        "\r\n",
        "pprint(description_results.as_dict())"
      ],
      "execution_count": 21,
      "outputs": [
        {
          "output_type": "stream",
          "text": [
            "{'captions': [{'confidence': 0.5555487871170044, 'text': 'a dog and a cat'}],\n",
            " 'metadata': {'format': 'Jpeg', 'height': 771, 'width': 1024},\n",
            " 'request_id': '76778153-80ec-4fc2-b105-3cf716de1188',\n",
            " 'tags': ['dog', 'sitting', 'indoor', 'animal', 'mammal', 'white']}\n"
          ],
          "name": "stdout"
        }
      ]
    },
    {
      "cell_type": "code",
      "metadata": {
        "colab": {
          "base_uri": "https://localhost:8080/"
        },
        "id": "Y40VC8yYekQZ",
        "outputId": "0efb500e-39bc-4fa9-9bbb-2bfce803901f"
      },
      "source": [
        "# Jala las descripciones de la respuesta\r\n",
        "print(\"Descripcion de la imagen remota: \")\r\n",
        "if (len(description_results.captions) == 0):\r\n",
        "    print(\"No description detected.\")\r\n",
        "else:\r\n",
        "    for caption in description_results.captions:\r\n",
        "        print(\"'{}' with confidence {:.2f}%\".format(caption.text, caption.confidence * 100))"
      ],
      "execution_count": 22,
      "outputs": [
        {
          "output_type": "stream",
          "text": [
            "Descripcion de la imagen remota: \n",
            "'a dog and a cat' with confidence 55.55%\n"
          ],
          "name": "stdout"
        }
      ]
    },
    {
      "cell_type": "code",
      "metadata": {
        "colab": {
          "base_uri": "https://localhost:8080/"
        },
        "id": "aWVdSRWTh-xp",
        "outputId": "eb7a2847-7b30-40c9-d41b-6d61968d0074"
      },
      "source": [
        "print(\"Descripcion de la imagen remota: \")\r\n",
        "if len(description_results.as_dict()['captions']) >0:\r\n",
        "  print(\"Encontré algo:\")\r\n",
        "  for elemento in description_results.as_dict()['captions']:\r\n",
        "    print(elemento[\"text\"])\r\n",
        "else:\r\n",
        "  print(\"No encontré nada.\")"
      ],
      "execution_count": 23,
      "outputs": [
        {
          "output_type": "stream",
          "text": [
            "Descripcion de la imagen remota: \n",
            "Encontré algo:\n",
            "a dog and a cat\n"
          ],
          "name": "stdout"
        }
      ]
    },
    {
      "cell_type": "markdown",
      "metadata": {
        "id": "9heh1XACbz4E"
      },
      "source": [
        ""
      ]
    }
  ]
}